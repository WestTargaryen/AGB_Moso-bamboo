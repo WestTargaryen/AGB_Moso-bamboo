{
 "cells": [
  {
   "cell_type": "code",
   "execution_count": 142,
   "id": "dddcc48b",
   "metadata": {},
   "outputs": [],
   "source": [
    "import os \n",
    "import numpy as np\n",
    "from sklearn.svm import SVC  \n",
    "from sklearn import metrics  \n",
    "import matplotlib.pyplot as plt\n",
    "from matplotlib.colors import ListedColormap\n",
    "from sklearn.model_selection import train_test_split \n",
    "from sklearn.decomposition import PCA  \n",
    "import pandas as pd\n",
    "from sklearn.preprocessing import StandardScaler\n",
    "from sklearn.ensemble import RandomForestClassifier\n",
    "from sklearn.metrics import precision_score\n",
    "from sklearn.model_selection import train_test_split\n",
    "from sklearn.svm import SVC\n",
    "from sklearn.linear_model import LogisticRegression\n",
    "from sklearn.ensemble import RandomForestClassifier\n",
    "import numpy as np\n",
    "import pandas as pd\n",
    "import matplotlib.pyplot as plt\n",
    "from matplotlib.colors import ListedColormap\n",
    "from sklearn.preprocessing import LabelEncoder\n",
    "from sklearn.metrics import classification_report\n",
    "from sklearn.model_selection import cross_val_score \n",
    "from sklearn.model_selection import GridSearchCV \n",
    "import matplotlib.pyplot as plt\n",
    "import seaborn as sns\n",
    "from sklearn.preprocessing import StandardScaler,MinMaxScaler,MaxAbsScaler\n",
    "import warnings\n",
    "warnings.filterwarnings(\"ignore\")"
   ]
  },
  {
   "cell_type": "code",
   "execution_count": 143,
   "id": "cf397493",
   "metadata": {},
   "outputs": [],
   "source": [
    "#AAAAAAAAAAAAAAAAAAAAAAAAAAAAAAAAAAAAAAAAAAAAAAAAAAAAAAAAAAAAAAAAAAAAAAAAA"
   ]
  },
  {
   "cell_type": "code",
   "execution_count": 144,
   "id": "69b027b4",
   "metadata": {},
   "outputs": [
    {
     "name": "stdout",
     "output_type": "stream",
     "text": [
      "0.8923076923076924\n",
      "0.8615384615384616\n",
      "0.8769230769230769\n",
      "0.8769230769230769\n",
      "0.8769230769230769\n",
      "0.8615384615384616\n",
      "0.8923076923076924\n",
      "0.8615384615384616\n",
      "0.8769230769230769\n",
      "0.9076923076923077\n",
      "0.8769230769230769\n",
      "0.8923076923076924\n",
      "0.8615384615384616\n",
      "0.8615384615384616\n",
      "0.8923076923076924\n",
      "0.8769230769230769\n",
      "0.9076923076923077\n",
      "0.8461538461538461\n",
      "0.8615384615384616\n",
      "0.8615384615384616\n",
      "0.9076923076923077\n",
      "0.8615384615384616\n",
      "0.8923076923076924\n",
      "0.8615384615384616\n",
      "0.8923076923076924\n",
      "0.8615384615384616\n",
      "0.8769230769230769\n",
      "0.8769230769230769\n",
      "0.8923076923076924\n",
      "0.9076923076923077\n"
     ]
    }
   ],
   "source": [
    "data = pd.read_csv(r\"\")\n",
    "Xtrain=data.iloc[0:,2:9]\n",
    "Ytrain=data.iloc[0:,1]\n",
    "data2 = pd.read_csv(r\"\")\n",
    "Xtest=data2.iloc[0:65,2:9]\n",
    "Ytest=data2.iloc[0:65,1]\n",
    "from sklearn.preprocessing import StandardScaler\n",
    "Xtrain = StandardScaler().fit_transform(Xtrain)\n",
    "Xtest = StandardScaler().fit_transform(Xtest)\n",
    "accuracies, precisions1, recalls1, f1s1,precisions2, recalls2, f1s2  = [], [], [], [], [], [], []\n",
    "for i in range(30):   \n",
    "    alg = RandomForestClassifier(n_estimators=110,min_samples_leaf=1, max_features='auto', criterion='entropy')\n",
    "    alg.fit(Xtrain, Ytrain)\n",
    "    predict = alg.predict(Xtest)\n",
    "    accuracy = (Ytest == predict).mean()\n",
    "    print((Ytest == predict).mean())\n",
    "    from sklearn.metrics import accuracy_score,precision_score,recall_score,f1_score,cohen_kappa_score\n",
    "    from sklearn.metrics import confusion_matrix\n",
    "    confusion = confusion_matrix(Ytest,predict)\n",
    "    accuracy = (confusion[0, 0] + confusion[1, 1]) / confusion.sum()\n",
    "    precision1=confusion[0, 0] / (confusion[0, 0] + confusion[0, 1]) \n",
    "    recall1=confusion[0, 0] / (confusion[0, 0] + confusion[1, 0]) \n",
    "    f1_score1=2*precision1*recall1/(precision1+recall1)\n",
    "    precision2=confusion[1, 1] / (confusion[1, 0] + confusion[1, 1]) \n",
    "    recall2=confusion[1, 1] / (confusion[0, 1] + confusion[1, 1]) \n",
    "    f1_score2=2*precision2*recall2/(precision2+recall2)\n",
    "    accuracies.append(accuracy)\n",
    "    precisions1.append(precision1)\n",
    "    recalls1.append(recall1)\n",
    "    f1s1.append(f1_score1)\n",
    "    precisions2.append(precision2)\n",
    "    recalls2.append(recall2)\n",
    "    f1s2.append(f1_score2)\n",
    "c={\"accuracies\" : accuracies, \"precisions1\" : precisions1, \"recalls1\" : recalls1, \"f1s1\" : f1s1,\"precisions2\" : precisions2,\"recalls2\" : recalls2,\"f1s2\" : f1s2}\n",
    "dataall=pd.DataFrame(c)\n",
    "dataall.to_csv(r\"\",sep=\",\",index=False)"
   ]
  },
  {
   "cell_type": "code",
   "execution_count": null,
   "id": "2357ae87",
   "metadata": {},
   "outputs": [],
   "source": []
  },
  {
   "cell_type": "code",
   "execution_count": null,
   "id": "c83474f6",
   "metadata": {},
   "outputs": [],
   "source": []
  },
  {
   "cell_type": "code",
   "execution_count": null,
   "id": "1f28fcfd",
   "metadata": {},
   "outputs": [],
   "source": []
  }
 ],
 "metadata": {
  "kernelspec": {
   "display_name": "Python 3 (ipykernel)",
   "language": "python",
   "name": "python3"
  },
  "language_info": {
   "codemirror_mode": {
    "name": "ipython",
    "version": 3
   },
   "file_extension": ".py",
   "mimetype": "text/x-python",
   "name": "python",
   "nbconvert_exporter": "python",
   "pygments_lexer": "ipython3",
   "version": "3.12.5"
  }
 },
 "nbformat": 4,
 "nbformat_minor": 5
}
